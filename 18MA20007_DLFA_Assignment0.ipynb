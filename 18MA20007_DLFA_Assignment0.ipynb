{
  "nbformat": 4,
  "nbformat_minor": 0,
  "metadata": {
    "colab": {
      "name": "18MA20007_DLFA_Assignment0.ipynb",
      "provenance": [],
      "authorship_tag": "ABX9TyNxDZZZ7pVkgNygOcY6dC1F",
      "include_colab_link": true
    },
    "kernelspec": {
      "name": "python3",
      "display_name": "Python 3"
    }
  },
  "cells": [
    {
      "cell_type": "markdown",
      "metadata": {
        "id": "view-in-github",
        "colab_type": "text"
      },
      "source": [
        "<a href=\"https://colab.research.google.com/github/Aparna-Sakshi/DLFA/blob/main/18MA20007_DLFA_Assignment0.ipynb\" target=\"_parent\"><img src=\"https://colab.research.google.com/assets/colab-badge.svg\" alt=\"Open In Colab\"/></a>"
      ]
    },
    {
      "cell_type": "markdown",
      "metadata": {
        "id": "0F1VSVlrp3Pu"
      },
      "source": [
        "# Assignment-0 : Building a neural network\n",
        "### Name: Aparna Sakshi\n",
        "### Roll No.:18MA20007"
      ]
    },
    {
      "cell_type": "markdown",
      "metadata": {
        "id": "buybCxiM--3o"
      },
      "source": [
        "## Feed Forward Neural Network"
      ]
    },
    {
      "cell_type": "code",
      "metadata": {
        "id": "AeKCuL6wqE15"
      },
      "source": [
        "import torch\n",
        "import torch.nn.functional as F\n",
        "import torch.nn as nn\n",
        "import numpy as np\n",
        "from matplotlib import pyplot as plt\n",
        "from torchvision import transforms, datasets"
      ],
      "execution_count": null,
      "outputs": []
    },
    {
      "cell_type": "code",
      "metadata": {
        "id": "nEYQU1d0qcBz"
      },
      "source": [
        "class FFNN(nn.Module):\n",
        "  def __init__(self):\n",
        "    super(FFNN,self).__init__()\n",
        "    self.fc1 = nn.Linear(784,100)\n",
        "    self.sigmoid=nn.Sigmoid()\n",
        "    self.fc2 = nn.Linear(100, 10)\n",
        "    \n",
        "  def forward(self, x):\n",
        "    x=self.fc1(x)\n",
        "    x=self.sigmoid(x)\n",
        "    x=self.fc2(x)\n",
        "    x=F.softmax(x,dim=1)\n",
        "    #print(x.size())\n",
        "    return x"
      ],
      "execution_count": null,
      "outputs": []
    },
    {
      "cell_type": "code",
      "metadata": {
        "colab": {
          "base_uri": "https://localhost:8080/"
        },
        "id": "1oiVqHAovBNQ",
        "outputId": "169b4a3f-16b5-422a-8f14-15eb5dde7da3"
      },
      "source": [
        "net = FFNN()\n",
        "print(net)\n"
      ],
      "execution_count": null,
      "outputs": [
        {
          "output_type": "stream",
          "text": [
            "FFNN(\n",
            "  (fc1): Linear(in_features=784, out_features=100, bias=True)\n",
            "  (sigmoid): Sigmoid()\n",
            "  (fc2): Linear(in_features=100, out_features=10, bias=True)\n",
            ")\n"
          ],
          "name": "stdout"
        }
      ]
    },
    {
      "cell_type": "code",
      "metadata": {
        "colab": {
          "base_uri": "https://localhost:8080/"
        },
        "id": "kU46eLT9wjoO",
        "outputId": "56ee0b58-d7cf-45bf-c046-de2e838a4b7a"
      },
      "source": [
        "params = list(net.parameters())\n",
        "print(\"No. of parameters: \", len(params))\n",
        "print(\"Dimensions of first layer weights: \", params[0].size())#weights of fc1\n",
        "print(\"Dimensions of first layer bias: \", params[1].size())#biases of fc1\n",
        "print(\"Dimensions of second layer weights\", params[2].size())#weights of fc2\n",
        "print(\"Dimensions of second layer bias: \", params[3].size())#biases of fc2\n",
        "\n",
        "totalParams = 0\n",
        "for param in params:\n",
        "  #print(param.size())\n",
        "  totalParams += np.sum(np.prod(param.size()))\n",
        "print(\"Total number of parameters: \", totalParams)\n"
      ],
      "execution_count": null,
      "outputs": [
        {
          "output_type": "stream",
          "text": [
            "No. of parameters:  4\n",
            "Dimensions of first layer weights:  torch.Size([100, 784])\n",
            "Dimensions of first layer bias:  torch.Size([100])\n",
            "Dimensions of second layer weights torch.Size([10, 100])\n",
            "Dimensions of second layer bias:  torch.Size([10])\n",
            "Total number of parameters:  79510\n"
          ],
          "name": "stdout"
        }
      ]
    },
    {
      "cell_type": "code",
      "metadata": {
        "id": "QbcDFBRGy-h8"
      },
      "source": [
        "apply_transform = transforms.Compose([transforms.ToTensor()])\n",
        "Batchsize = 256\n",
        "trainset = datasets.MNIST(root = './data', train=True, download=True, transform=apply_transform)\n",
        "trainLoader = torch.utils.data.DataLoader(trainset, batch_size=Batchsize, shuffle=True, num_workers=4) #Creating dataLoader"
      ],
      "execution_count": null,
      "outputs": []
    },
    {
      "cell_type": "code",
      "metadata": {
        "id": "0zeHjoH-0jVe"
      },
      "source": [
        "for i,data in enumerate(trainLoader):\n",
        "  inputs, labels = data \n",
        "  outputs=[]  \n",
        "  for ip in inputs:\n",
        "    op = net.forward(inputs.view(-1,28*28))\n",
        "    outputs.append(np.argmax(op.detach().numpy()))\n",
        "  #print(outputs)\n",
        "  "
      ],
      "execution_count": null,
      "outputs": []
    },
    {
      "cell_type": "code",
      "metadata": {
        "colab": {
          "base_uri": "https://localhost:8080/"
        },
        "id": "VGzomMzu2UDq",
        "outputId": "48c6d0dc-87d0-4952-97b7-61803beb014d"
      },
      "source": [
        "inputs.view(-1, inputs.shape[0]).shape"
      ],
      "execution_count": null,
      "outputs": [
        {
          "output_type": "execute_result",
          "data": {
            "text/plain": [
              "torch.Size([784, 96])"
            ]
          },
          "metadata": {
            "tags": []
          },
          "execution_count": 9
        }
      ]
    },
    {
      "cell_type": "code",
      "metadata": {
        "id": "jYVrUQPP229o"
      },
      "source": [
        "data1=next(iter(trainLoader))"
      ],
      "execution_count": null,
      "outputs": []
    },
    {
      "cell_type": "code",
      "metadata": {
        "id": "3ihYYqSU3Xiw"
      },
      "source": [
        "input1, label=data1"
      ],
      "execution_count": null,
      "outputs": []
    },
    {
      "cell_type": "code",
      "metadata": {
        "colab": {
          "base_uri": "https://localhost:8080/"
        },
        "id": "z8VAGXtj3cpl",
        "outputId": "4f6350a0-5125-4178-8e0f-f0af29c4f4fb"
      },
      "source": [
        "input1.shape"
      ],
      "execution_count": null,
      "outputs": [
        {
          "output_type": "execute_result",
          "data": {
            "text/plain": [
              "torch.Size([256, 1, 28, 28])"
            ]
          },
          "metadata": {
            "tags": []
          },
          "execution_count": 12
        }
      ]
    },
    {
      "cell_type": "code",
      "metadata": {
        "colab": {
          "base_uri": "https://localhost:8080/"
        },
        "id": "h37T4xkq3lK0",
        "outputId": "1f4b15df-5077-45f0-ed41-e4de31900cf0"
      },
      "source": [
        "label"
      ],
      "execution_count": null,
      "outputs": [
        {
          "output_type": "execute_result",
          "data": {
            "text/plain": [
              "tensor([2, 6, 6, 5, 4, 8, 4, 2, 3, 4, 2, 5, 2, 2, 6, 1, 1, 2, 4, 2, 5, 3, 1, 0,\n",
              "        6, 8, 3, 7, 0, 1, 3, 5, 1, 3, 3, 6, 8, 6, 2, 8, 8, 0, 4, 9, 6, 2, 1, 2,\n",
              "        9, 5, 9, 9, 9, 2, 9, 6, 0, 9, 5, 9, 2, 0, 2, 3, 7, 7, 5, 7, 2, 6, 3, 7,\n",
              "        0, 8, 6, 7, 2, 4, 2, 4, 8, 6, 7, 7, 3, 6, 6, 8, 8, 5, 5, 7, 7, 2, 6, 5,\n",
              "        9, 5, 6, 4, 3, 8, 2, 2, 4, 2, 5, 1, 6, 3, 9, 2, 3, 7, 2, 7, 2, 7, 8, 5,\n",
              "        1, 9, 6, 9, 4, 2, 0, 6, 0, 1, 7, 7, 6, 9, 8, 2, 7, 6, 3, 0, 5, 7, 7, 2,\n",
              "        9, 7, 6, 6, 0, 4, 8, 4, 7, 6, 0, 0, 9, 7, 5, 4, 6, 5, 7, 3, 2, 1, 3, 9,\n",
              "        7, 9, 7, 2, 2, 9, 8, 7, 7, 2, 8, 1, 6, 7, 9, 7, 4, 6, 1, 5, 4, 1, 2, 9,\n",
              "        0, 3, 7, 9, 3, 7, 0, 8, 1, 9, 0, 9, 6, 5, 7, 7, 3, 4, 6, 9, 1, 4, 2, 5,\n",
              "        5, 8, 8, 6, 1, 0, 7, 0, 6, 8, 5, 3, 2, 6, 3, 3, 1, 7, 1, 2, 6, 2, 9, 0,\n",
              "        4, 6, 1, 1, 0, 1, 9, 0, 4, 5, 9, 6, 2, 7, 6, 9])"
            ]
          },
          "metadata": {
            "tags": []
          },
          "execution_count": 13
        }
      ]
    },
    {
      "cell_type": "code",
      "metadata": {
        "colab": {
          "base_uri": "https://localhost:8080/"
        },
        "id": "rNhYfvYR3p5S",
        "outputId": "c7f435f2-0e7d-44ef-e3ee-3a028bf80c8e"
      },
      "source": [
        "net(input1.view(input1.shape[0],-1))"
      ],
      "execution_count": null,
      "outputs": [
        {
          "output_type": "stream",
          "text": [
            "torch.Size([256, 10])\n"
          ],
          "name": "stdout"
        },
        {
          "output_type": "execute_result",
          "data": {
            "text/plain": [
              "tensor([[0.1510, 0.0668, 0.0644,  ..., 0.0860, 0.0964, 0.1539],\n",
              "        [0.1520, 0.0654, 0.0649,  ..., 0.0848, 0.0984, 0.1563],\n",
              "        [0.1575, 0.0660, 0.0650,  ..., 0.0856, 0.0955, 0.1521],\n",
              "        ...,\n",
              "        [0.1560, 0.0661, 0.0643,  ..., 0.0836, 0.0940, 0.1560],\n",
              "        [0.1588, 0.0642, 0.0647,  ..., 0.0858, 0.0958, 0.1522],\n",
              "        [0.1573, 0.0666, 0.0671,  ..., 0.0844, 0.0960, 0.1495]],\n",
              "       grad_fn=<SoftmaxBackward>)"
            ]
          },
          "metadata": {
            "tags": []
          },
          "execution_count": 14
        }
      ]
    },
    {
      "cell_type": "markdown",
      "metadata": {
        "id": "XKHxerY4t0bS"
      },
      "source": [
        "## Convolutional neural network"
      ]
    },
    {
      "cell_type": "code",
      "metadata": {
        "id": "WwzLx9IVt4k6"
      },
      "source": [
        "class LeNet(nn.Module):\n",
        "  def __init__(self):\n",
        "    super(LeNet, self).__init__()\n",
        "    self.conv1 = nn.Conv2d(1,6,5) #1 input image channel, 6 output channels, 5X5 square convolution kernel\n",
        "    self.pool1 = nn.MaxPool2d(2,stride=2)\n",
        "    self.conv2 = nn.Conv2d(6,16,5)\n",
        "    self.pool2 = nn.MaxPool2d(2,stride=2)\n",
        "    self.linear1 = nn.Linear(16*4*4,120) #28-5+1=24, #24/2=12, #12-5+1=8, #8/2=4\n",
        "    self.linear2 = nn.Linear(120,84)\n",
        "    self.linear3 = nn.Linear(84,10)\n",
        "    \n",
        "  def forward(self, x):\n",
        "    x=F.relu(self.conv1(x))\n",
        "    x=self.pool1(x)\n",
        "    x=F.relu(self.conv2(x))\n",
        "    x=self.pool2(x)\n",
        "    x=F.relu(self.linear1(x))\n",
        "    x=F.relu(self.linear2(x))\n",
        "    x=F.relu(self.linear3(x))\n",
        "    x=F.softmax(x,dim=1)\n",
        "    #print(x.size())\n",
        "    return x\n"
      ],
      "execution_count": null,
      "outputs": []
    },
    {
      "cell_type": "code",
      "metadata": {
        "colab": {
          "base_uri": "https://localhost:8080/"
        },
        "id": "qKct3ALRDNyg",
        "outputId": "40b92e2a-a2d6-4183-81c0-f958534934c9"
      },
      "source": [
        "conv_net = LeNet()\n",
        "print(conv_net)\n"
      ],
      "execution_count": null,
      "outputs": [
        {
          "output_type": "stream",
          "text": [
            "LeNet(\n",
            "  (conv1): Conv2d(1, 6, kernel_size=(5, 5), stride=(1, 1))\n",
            "  (pool1): MaxPool2d(kernel_size=2, stride=2, padding=0, dilation=1, ceil_mode=False)\n",
            "  (conv2): Conv2d(6, 16, kernel_size=(5, 5), stride=(1, 1))\n",
            "  (pool2): MaxPool2d(kernel_size=2, stride=2, padding=0, dilation=1, ceil_mode=False)\n",
            "  (linear1): Linear(in_features=256, out_features=120, bias=True)\n",
            "  (linear2): Linear(in_features=120, out_features=84, bias=True)\n",
            "  (linear3): Linear(in_features=84, out_features=10, bias=True)\n",
            ")\n"
          ],
          "name": "stdout"
        }
      ]
    },
    {
      "cell_type": "code",
      "metadata": {
        "colab": {
          "base_uri": "https://localhost:8080/"
        },
        "id": "Z-oykmztDbXo",
        "outputId": "3a255f25-42eb-42e1-d922-26afdbea8004"
      },
      "source": [
        "params = list(conv_net.named_parameters())\n",
        "print('No. of parameters: ', len(params))\n",
        "\n",
        "totalParams = 0\n",
        "for name,param in params:\n",
        "  print(name, \"-->\", param.shape)\n",
        "  totalParams += np.sum(np.prod(param.size()))\n",
        "print(\"Total number of parameters: \", totalParams)\n"
      ],
      "execution_count": null,
      "outputs": [
        {
          "output_type": "stream",
          "text": [
            "No. of parameters:  10\n",
            "conv1.weight --> torch.Size([6, 1, 5, 5])\n",
            "conv1.bias --> torch.Size([6])\n",
            "conv2.weight --> torch.Size([16, 6, 5, 5])\n",
            "conv2.bias --> torch.Size([16])\n",
            "linear1.weight --> torch.Size([120, 256])\n",
            "linear1.bias --> torch.Size([120])\n",
            "linear2.weight --> torch.Size([84, 120])\n",
            "linear2.bias --> torch.Size([84])\n",
            "linear3.weight --> torch.Size([10, 84])\n",
            "linear3.bias --> torch.Size([10])\n",
            "Total number of parameters:  44426\n"
          ],
          "name": "stdout"
        }
      ]
    },
    {
      "cell_type": "code",
      "metadata": {
        "id": "1qwqL_N6KrN9"
      },
      "source": [
        "apply_transform = transforms.Compose([transforms.Resize(32), transforms.ToTensor()])\n",
        "Batchsize = 256\n",
        "trainset = datasets.MNIST(root='./data', train = True, download=False, transform=apply_transform)\n",
        "trainLoader = torch.utils.data.DataLoader(trainset, batch_size=Batchsize, shuffle=True)#creating dataloader"
      ],
      "execution_count": null,
      "outputs": []
    },
    {
      "cell_type": "code",
      "metadata": {
        "colab": {
          "base_uri": "https://localhost:8080/"
        },
        "id": "1okH81wwLeXu",
        "outputId": "a3a03841-3ba2-4808-8a6a-504082d10224"
      },
      "source": [
        "for i,data in enumerate(trainLoader):\n",
        "  inputs,labels = data\n",
        "  print(inputs.shape)\n",
        "  #outputs = net(inputs)\n",
        "\n"
      ],
      "execution_count": null,
      "outputs": [
        {
          "output_type": "stream",
          "text": [
            "torch.Size([256, 1, 32, 32])\n",
            "torch.Size([256, 1, 32, 32])\n",
            "torch.Size([256, 1, 32, 32])\n",
            "torch.Size([256, 1, 32, 32])\n",
            "torch.Size([256, 1, 32, 32])\n",
            "torch.Size([256, 1, 32, 32])\n",
            "torch.Size([256, 1, 32, 32])\n",
            "torch.Size([256, 1, 32, 32])\n",
            "torch.Size([256, 1, 32, 32])\n",
            "torch.Size([256, 1, 32, 32])\n",
            "torch.Size([256, 1, 32, 32])\n",
            "torch.Size([256, 1, 32, 32])\n",
            "torch.Size([256, 1, 32, 32])\n",
            "torch.Size([256, 1, 32, 32])\n",
            "torch.Size([256, 1, 32, 32])\n",
            "torch.Size([256, 1, 32, 32])\n",
            "torch.Size([256, 1, 32, 32])\n",
            "torch.Size([256, 1, 32, 32])\n",
            "torch.Size([256, 1, 32, 32])\n",
            "torch.Size([256, 1, 32, 32])\n",
            "torch.Size([256, 1, 32, 32])\n",
            "torch.Size([256, 1, 32, 32])\n",
            "torch.Size([256, 1, 32, 32])\n",
            "torch.Size([256, 1, 32, 32])\n",
            "torch.Size([256, 1, 32, 32])\n",
            "torch.Size([256, 1, 32, 32])\n",
            "torch.Size([256, 1, 32, 32])\n",
            "torch.Size([256, 1, 32, 32])\n",
            "torch.Size([256, 1, 32, 32])\n",
            "torch.Size([256, 1, 32, 32])\n",
            "torch.Size([256, 1, 32, 32])\n",
            "torch.Size([256, 1, 32, 32])\n",
            "torch.Size([256, 1, 32, 32])\n",
            "torch.Size([256, 1, 32, 32])\n",
            "torch.Size([256, 1, 32, 32])\n",
            "torch.Size([256, 1, 32, 32])\n",
            "torch.Size([256, 1, 32, 32])\n",
            "torch.Size([256, 1, 32, 32])\n",
            "torch.Size([256, 1, 32, 32])\n",
            "torch.Size([256, 1, 32, 32])\n",
            "torch.Size([256, 1, 32, 32])\n",
            "torch.Size([256, 1, 32, 32])\n",
            "torch.Size([256, 1, 32, 32])\n",
            "torch.Size([256, 1, 32, 32])\n",
            "torch.Size([256, 1, 32, 32])\n",
            "torch.Size([256, 1, 32, 32])\n",
            "torch.Size([256, 1, 32, 32])\n",
            "torch.Size([256, 1, 32, 32])\n",
            "torch.Size([256, 1, 32, 32])\n",
            "torch.Size([256, 1, 32, 32])\n",
            "torch.Size([256, 1, 32, 32])\n",
            "torch.Size([256, 1, 32, 32])\n",
            "torch.Size([256, 1, 32, 32])\n",
            "torch.Size([256, 1, 32, 32])\n",
            "torch.Size([256, 1, 32, 32])\n",
            "torch.Size([256, 1, 32, 32])\n",
            "torch.Size([256, 1, 32, 32])\n",
            "torch.Size([256, 1, 32, 32])\n",
            "torch.Size([256, 1, 32, 32])\n",
            "torch.Size([256, 1, 32, 32])\n",
            "torch.Size([256, 1, 32, 32])\n",
            "torch.Size([256, 1, 32, 32])\n",
            "torch.Size([256, 1, 32, 32])\n",
            "torch.Size([256, 1, 32, 32])\n",
            "torch.Size([256, 1, 32, 32])\n",
            "torch.Size([256, 1, 32, 32])\n",
            "torch.Size([256, 1, 32, 32])\n",
            "torch.Size([256, 1, 32, 32])\n",
            "torch.Size([256, 1, 32, 32])\n",
            "torch.Size([256, 1, 32, 32])\n",
            "torch.Size([256, 1, 32, 32])\n",
            "torch.Size([256, 1, 32, 32])\n",
            "torch.Size([256, 1, 32, 32])\n",
            "torch.Size([256, 1, 32, 32])\n",
            "torch.Size([256, 1, 32, 32])\n",
            "torch.Size([256, 1, 32, 32])\n",
            "torch.Size([256, 1, 32, 32])\n",
            "torch.Size([256, 1, 32, 32])\n",
            "torch.Size([256, 1, 32, 32])\n",
            "torch.Size([256, 1, 32, 32])\n",
            "torch.Size([256, 1, 32, 32])\n",
            "torch.Size([256, 1, 32, 32])\n",
            "torch.Size([256, 1, 32, 32])\n",
            "torch.Size([256, 1, 32, 32])\n",
            "torch.Size([256, 1, 32, 32])\n",
            "torch.Size([256, 1, 32, 32])\n",
            "torch.Size([256, 1, 32, 32])\n",
            "torch.Size([256, 1, 32, 32])\n",
            "torch.Size([256, 1, 32, 32])\n",
            "torch.Size([256, 1, 32, 32])\n",
            "torch.Size([256, 1, 32, 32])\n",
            "torch.Size([256, 1, 32, 32])\n",
            "torch.Size([256, 1, 32, 32])\n",
            "torch.Size([256, 1, 32, 32])\n",
            "torch.Size([256, 1, 32, 32])\n",
            "torch.Size([256, 1, 32, 32])\n",
            "torch.Size([256, 1, 32, 32])\n",
            "torch.Size([256, 1, 32, 32])\n",
            "torch.Size([256, 1, 32, 32])\n",
            "torch.Size([256, 1, 32, 32])\n",
            "torch.Size([256, 1, 32, 32])\n",
            "torch.Size([256, 1, 32, 32])\n",
            "torch.Size([256, 1, 32, 32])\n",
            "torch.Size([256, 1, 32, 32])\n",
            "torch.Size([256, 1, 32, 32])\n",
            "torch.Size([256, 1, 32, 32])\n",
            "torch.Size([256, 1, 32, 32])\n",
            "torch.Size([256, 1, 32, 32])\n",
            "torch.Size([256, 1, 32, 32])\n",
            "torch.Size([256, 1, 32, 32])\n",
            "torch.Size([256, 1, 32, 32])\n",
            "torch.Size([256, 1, 32, 32])\n",
            "torch.Size([256, 1, 32, 32])\n",
            "torch.Size([256, 1, 32, 32])\n",
            "torch.Size([256, 1, 32, 32])\n",
            "torch.Size([256, 1, 32, 32])\n",
            "torch.Size([256, 1, 32, 32])\n",
            "torch.Size([256, 1, 32, 32])\n",
            "torch.Size([256, 1, 32, 32])\n",
            "torch.Size([256, 1, 32, 32])\n",
            "torch.Size([256, 1, 32, 32])\n",
            "torch.Size([256, 1, 32, 32])\n",
            "torch.Size([256, 1, 32, 32])\n",
            "torch.Size([256, 1, 32, 32])\n",
            "torch.Size([256, 1, 32, 32])\n",
            "torch.Size([256, 1, 32, 32])\n",
            "torch.Size([256, 1, 32, 32])\n",
            "torch.Size([256, 1, 32, 32])\n",
            "torch.Size([256, 1, 32, 32])\n",
            "torch.Size([256, 1, 32, 32])\n",
            "torch.Size([256, 1, 32, 32])\n",
            "torch.Size([256, 1, 32, 32])\n",
            "torch.Size([256, 1, 32, 32])\n",
            "torch.Size([256, 1, 32, 32])\n",
            "torch.Size([256, 1, 32, 32])\n",
            "torch.Size([256, 1, 32, 32])\n",
            "torch.Size([256, 1, 32, 32])\n",
            "torch.Size([256, 1, 32, 32])\n",
            "torch.Size([256, 1, 32, 32])\n",
            "torch.Size([256, 1, 32, 32])\n",
            "torch.Size([256, 1, 32, 32])\n",
            "torch.Size([256, 1, 32, 32])\n",
            "torch.Size([256, 1, 32, 32])\n",
            "torch.Size([256, 1, 32, 32])\n",
            "torch.Size([256, 1, 32, 32])\n",
            "torch.Size([256, 1, 32, 32])\n",
            "torch.Size([256, 1, 32, 32])\n",
            "torch.Size([256, 1, 32, 32])\n",
            "torch.Size([256, 1, 32, 32])\n",
            "torch.Size([256, 1, 32, 32])\n",
            "torch.Size([256, 1, 32, 32])\n",
            "torch.Size([256, 1, 32, 32])\n",
            "torch.Size([256, 1, 32, 32])\n",
            "torch.Size([256, 1, 32, 32])\n",
            "torch.Size([256, 1, 32, 32])\n",
            "torch.Size([256, 1, 32, 32])\n",
            "torch.Size([256, 1, 32, 32])\n",
            "torch.Size([256, 1, 32, 32])\n",
            "torch.Size([256, 1, 32, 32])\n",
            "torch.Size([256, 1, 32, 32])\n",
            "torch.Size([256, 1, 32, 32])\n",
            "torch.Size([256, 1, 32, 32])\n",
            "torch.Size([256, 1, 32, 32])\n",
            "torch.Size([256, 1, 32, 32])\n",
            "torch.Size([256, 1, 32, 32])\n",
            "torch.Size([256, 1, 32, 32])\n",
            "torch.Size([256, 1, 32, 32])\n",
            "torch.Size([256, 1, 32, 32])\n",
            "torch.Size([256, 1, 32, 32])\n",
            "torch.Size([256, 1, 32, 32])\n",
            "torch.Size([256, 1, 32, 32])\n",
            "torch.Size([256, 1, 32, 32])\n",
            "torch.Size([256, 1, 32, 32])\n",
            "torch.Size([256, 1, 32, 32])\n",
            "torch.Size([256, 1, 32, 32])\n",
            "torch.Size([256, 1, 32, 32])\n",
            "torch.Size([256, 1, 32, 32])\n",
            "torch.Size([256, 1, 32, 32])\n",
            "torch.Size([256, 1, 32, 32])\n",
            "torch.Size([256, 1, 32, 32])\n",
            "torch.Size([256, 1, 32, 32])\n",
            "torch.Size([256, 1, 32, 32])\n",
            "torch.Size([256, 1, 32, 32])\n",
            "torch.Size([256, 1, 32, 32])\n",
            "torch.Size([256, 1, 32, 32])\n",
            "torch.Size([256, 1, 32, 32])\n",
            "torch.Size([256, 1, 32, 32])\n",
            "torch.Size([256, 1, 32, 32])\n",
            "torch.Size([256, 1, 32, 32])\n",
            "torch.Size([256, 1, 32, 32])\n",
            "torch.Size([256, 1, 32, 32])\n",
            "torch.Size([256, 1, 32, 32])\n",
            "torch.Size([256, 1, 32, 32])\n",
            "torch.Size([256, 1, 32, 32])\n",
            "torch.Size([256, 1, 32, 32])\n",
            "torch.Size([256, 1, 32, 32])\n",
            "torch.Size([256, 1, 32, 32])\n",
            "torch.Size([256, 1, 32, 32])\n",
            "torch.Size([256, 1, 32, 32])\n",
            "torch.Size([256, 1, 32, 32])\n",
            "torch.Size([256, 1, 32, 32])\n",
            "torch.Size([256, 1, 32, 32])\n",
            "torch.Size([256, 1, 32, 32])\n",
            "torch.Size([256, 1, 32, 32])\n",
            "torch.Size([256, 1, 32, 32])\n",
            "torch.Size([256, 1, 32, 32])\n",
            "torch.Size([256, 1, 32, 32])\n",
            "torch.Size([256, 1, 32, 32])\n",
            "torch.Size([256, 1, 32, 32])\n",
            "torch.Size([256, 1, 32, 32])\n",
            "torch.Size([256, 1, 32, 32])\n",
            "torch.Size([256, 1, 32, 32])\n",
            "torch.Size([256, 1, 32, 32])\n",
            "torch.Size([256, 1, 32, 32])\n",
            "torch.Size([256, 1, 32, 32])\n",
            "torch.Size([256, 1, 32, 32])\n",
            "torch.Size([256, 1, 32, 32])\n",
            "torch.Size([256, 1, 32, 32])\n",
            "torch.Size([256, 1, 32, 32])\n",
            "torch.Size([256, 1, 32, 32])\n",
            "torch.Size([256, 1, 32, 32])\n",
            "torch.Size([256, 1, 32, 32])\n",
            "torch.Size([256, 1, 32, 32])\n",
            "torch.Size([256, 1, 32, 32])\n",
            "torch.Size([256, 1, 32, 32])\n",
            "torch.Size([256, 1, 32, 32])\n",
            "torch.Size([256, 1, 32, 32])\n",
            "torch.Size([256, 1, 32, 32])\n",
            "torch.Size([256, 1, 32, 32])\n",
            "torch.Size([256, 1, 32, 32])\n",
            "torch.Size([256, 1, 32, 32])\n",
            "torch.Size([256, 1, 32, 32])\n",
            "torch.Size([256, 1, 32, 32])\n",
            "torch.Size([256, 1, 32, 32])\n",
            "torch.Size([96, 1, 32, 32])\n"
          ],
          "name": "stdout"
        }
      ]
    },
    {
      "cell_type": "code",
      "metadata": {
        "id": "PsVDMlPrLxRf"
      },
      "source": [
        "data1 = next(iter(trainLoader))"
      ],
      "execution_count": null,
      "outputs": []
    },
    {
      "cell_type": "code",
      "metadata": {
        "id": "K4EWL2aCL6jX"
      },
      "source": [
        "input1,label=data1"
      ],
      "execution_count": null,
      "outputs": []
    },
    {
      "cell_type": "code",
      "metadata": {
        "colab": {
          "base_uri": "https://localhost:8080/"
        },
        "id": "8I0T2V-DMrYh",
        "outputId": "fa3f6619-5854-445f-f71f-3c0d8c45d3a5"
      },
      "source": [
        "label"
      ],
      "execution_count": null,
      "outputs": [
        {
          "output_type": "execute_result",
          "data": {
            "text/plain": [
              "tensor([1, 5, 1, 9, 4, 4, 4, 4, 1, 4, 1, 1, 3, 0, 0, 2, 9, 2, 8, 4, 6, 3, 3, 1,\n",
              "        9, 7, 7, 4, 1, 1, 5, 0, 4, 0, 5, 7, 4, 5, 0, 1, 2, 5, 4, 7, 2, 7, 4, 0,\n",
              "        1, 1, 9, 9, 2, 7, 1, 1, 2, 5, 5, 7, 9, 8, 3, 6, 8, 6, 2, 0, 2, 0, 4, 3,\n",
              "        0, 9, 5, 2, 0, 6, 8, 7, 0, 1, 1, 6, 7, 4, 1, 9, 9, 4, 7, 6, 8, 2, 7, 3,\n",
              "        5, 6, 8, 5, 9, 0, 7, 6, 1, 2, 8, 7, 0, 4, 6, 1, 2, 5, 7, 4, 5, 9, 5, 6,\n",
              "        4, 7, 2, 3, 2, 5, 8, 7, 6, 6, 3, 2, 6, 0, 4, 8, 9, 1, 2, 6, 5, 5, 6, 5,\n",
              "        1, 4, 9, 9, 4, 6, 8, 5, 0, 8, 7, 8, 2, 0, 4, 0, 1, 7, 1, 2, 6, 3, 5, 2,\n",
              "        7, 2, 2, 9, 2, 6, 6, 5, 7, 8, 2, 6, 1, 6, 9, 8, 8, 4, 0, 0, 2, 4, 6, 3,\n",
              "        4, 4, 0, 1, 2, 4, 6, 3, 9, 7, 4, 2, 6, 7, 0, 4, 9, 6, 4, 9, 8, 0, 6, 9,\n",
              "        9, 3, 9, 4, 5, 9, 4, 5, 5, 9, 8, 5, 6, 3, 4, 1, 5, 4, 1, 2, 5, 8, 1, 1,\n",
              "        7, 8, 1, 2, 8, 6, 9, 2, 7, 4, 0, 7, 0, 7, 5, 7])"
            ]
          },
          "metadata": {
            "tags": []
          },
          "execution_count": 24
        }
      ]
    }
  ]
}